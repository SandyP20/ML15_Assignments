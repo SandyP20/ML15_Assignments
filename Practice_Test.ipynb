{
 "cells": [
  {
   "cell_type": "code",
   "execution_count": 1,
   "id": "6d7d1fcd",
   "metadata": {},
   "outputs": [
    {
     "name": "stdout",
     "output_type": "stream",
     "text": [
      "Enter the number: 3\n",
      "Weird\n"
     ]
    }
   ],
   "source": [
    "#1\n",
    "n = int(input(\"Enter the number: \"))\n",
    "if n%2 !=0:\n",
    "    print(\"Weird\")\n",
    "elif n%2 ==0 and range(2,5):\n",
    "    print(\"Not weird\")\n",
    "elif n%2 ==0 and range(6,20):\n",
    "    print(\"Weird\")\n",
    "elif n%2 ==0 and n>20:\n",
    "    print(\"Not weird\")"
   ]
  },
  {
   "cell_type": "code",
   "execution_count": 8,
   "id": "0bbc6458",
   "metadata": {},
   "outputs": [
    {
     "name": "stdout",
     "output_type": "stream",
     "text": [
      "square of 0 = 0\n",
      "square of 1 = 1\n",
      "square of 2 = 4\n"
     ]
    }
   ],
   "source": [
    "#2\n",
    "L=list(range(0,3))\n",
    "for num in L:\n",
    "    print(\"square of\", num,\"=\", num*num)\n",
    "    "
   ]
  },
  {
   "cell_type": "code",
   "execution_count": 32,
   "id": "7bb63acc",
   "metadata": {},
   "outputs": [
    {
     "name": "stdout",
     "output_type": "stream",
     "text": [
      "5\n"
     ]
    }
   ],
   "source": [
    "#4\n",
    "def runner_up(n):\n",
    "    unique_score = list(set(n))\n",
    "    sorted_score = sorted(unique_score, reverse=True)\n",
    "    print(sorted_score[1])\n",
    "\n",
    "\n",
    "scores = [2,3,6,6,5]\n",
    "runner_up(scores)\n",
    "\n",
    "        \n",
    "        "
   ]
  },
  {
   "cell_type": "code",
   "execution_count": 39,
   "id": "c87487ca",
   "metadata": {},
   "outputs": [
    {
     "name": "stdout",
     "output_type": "stream",
     "text": [
      "Average marks of student alpha is 30.00\n"
     ]
    }
   ],
   "source": [
    "#5\n",
    "def average_marks(name, marks):\n",
    "    if name in marks:\n",
    "        student_marks = marks[name]\n",
    "        average = sum(student_marks)/ len(student_marks)\n",
    "        return \"Average marks of student {} is {:.2f}\".format(name, average)\n",
    "\n",
    "\n",
    "marks = {\"alpha\":[20,30,40], \"beta\":[30,50,70]}\n",
    "name=\"alpha\"\n",
    "result = average_marks(name, marks) \n",
    "print(result)\n"
   ]
  },
  {
   "cell_type": "code",
   "execution_count": 41,
   "id": "22019c3d",
   "metadata": {},
   "outputs": [
    {
     "name": "stdout",
     "output_type": "stream",
     "text": [
      "Enter a stringMy name is Sandesh Ishwar Pednekar\n",
      "mY NAME IS sANDESH iSHWAR pEDNEKAR\n"
     ]
    }
   ],
   "source": [
    "#6\n",
    "input_string = input(\"Enter a string\")\n",
    "swap_string = input_string.swapcase()\n",
    "print(swap_string)\n"
   ]
  },
  {
   "cell_type": "code",
   "execution_count": 52,
   "id": "f216bd47",
   "metadata": {},
   "outputs": [
    {
     "name": "stdout",
     "output_type": "stream",
     "text": [
      "Enter a string: This is sandy\n",
      "This-is-sandy\n"
     ]
    }
   ],
   "source": [
    "#7\n",
    "input_string = input(\"Enter a string: \")\n",
    "split_string = input_string.split(\" \")\n",
    "join_string = \"-\".join(split_string)\n",
    "print(join_string)"
   ]
  },
  {
   "cell_type": "code",
   "execution_count": 54,
   "id": "f20a01d5",
   "metadata": {},
   "outputs": [
    {
     "name": "stdout",
     "output_type": "stream",
     "text": [
      "Enter the string: Python is a case sensitive, popular programming language used for web development etc.\n",
      "Enter the substring: Python \n",
      "1\n"
     ]
    }
   ],
   "source": [
    "#8\n",
    "input_string = input(\"Enter the string: \")\n",
    "input_substring = input(\"Enter the substring: \")\n",
    "\n",
    "a = input_string.count(input_substring)\n",
    "print(a)\n"
   ]
  },
  {
   "cell_type": "code",
   "execution_count": 59,
   "id": "f3e87304",
   "metadata": {},
   "outputs": [
    {
     "name": "stdout",
     "output_type": "stream",
     "text": [
      "Enter the stringMy name is Sandesh. Mob.no = 9511953207, Email-Id = sandeshpednekar20@gmail.com\n",
      "string contains alphanumeric:  True\n",
      "string contains alphabetic:  True\n",
      "string contains digit:  False\n",
      "string contains lowercase:  True\n",
      "string contains uppercase:  False\n"
     ]
    }
   ],
   "source": [
    "#9\n",
    "S = input(\"Enter the string\")\n",
    "def chech_string_type(input_string):\n",
    "    is_alphanumric = string.isalnum()\n",
    "    is_alphabetic = string.isalpha()\n",
    "    is_digit = string.isdigit()\n",
    "    is_lowercase = string.islower()\n",
    "    is_uppercase = string.isupper()\n",
    "    \n",
    "    print(\"string contains alphanumeric: \",is_alphanumric)\n",
    "    print(\"string contains alphabetic: \",is_alphabetic)\n",
    "    print(\"string contains digit: \",is_digit)\n",
    "    print(\"string contains lowercase: \",is_lowercase)\n",
    "    print(\"string contains uppercase: \",is_uppercase)\n",
    "\n",
    "chech_string_type(S)"
   ]
  },
  {
   "cell_type": "code",
   "execution_count": 62,
   "id": "192e3529",
   "metadata": {},
   "outputs": [
    {
     "name": "stdout",
     "output_type": "stream",
     "text": [
      "Enter the string: sandesh\n",
      "True , string contains only alphanumeric characters\n"
     ]
    }
   ],
   "source": [
    "#10\n",
    "string = input(\"Enter the string: \")\n",
    "char = string.isalpha()\n",
    "print(char, \", string contains only alphanumeric characters\")\n"
   ]
  },
  {
   "cell_type": "code",
   "execution_count": 70,
   "id": "415a5fcb",
   "metadata": {},
   "outputs": [
    {
     "name": "stdout",
     "output_type": "stream",
     "text": [
      "Enter a string: sandesh ishwar pednkaere\n",
      "The string 'sandesh ishwar pednkaere' does not math the pattern.\n"
     ]
    }
   ],
   "source": [
    "#11\n",
    "def match_pattern(string):\n",
    "    found_a =False\n",
    "    for char in string:\n",
    "        if char== \"a\":\n",
    "            found_a = True\n",
    "        elif char == \"b\" and found_a:\n",
    "            continue\n",
    "        else:\n",
    "            print(f\"The string '{string}' does not math the pattern.\")\n",
    "            return\n",
    "        \n",
    "    print(f\"The string '{input_string}' matches the pattern: an 'a' followed by zero or more 'b's.\")\n",
    "\n",
    "input_string = input(\"Enter a string: \")\n",
    "match_pattern(input_string)"
   ]
  },
  {
   "cell_type": "code",
   "execution_count": 71,
   "id": "0a7d7cef",
   "metadata": {},
   "outputs": [
    {
     "name": "stdout",
     "output_type": "stream",
     "text": [
      "Enter a string: abb\n",
      "The string 'abb' matches the pattern: an 'a' followed by one or more 'b's.\n"
     ]
    }
   ],
   "source": [
    "#12\n",
    "def match_pattern(input_string):\n",
    "    found_a = False\n",
    "    for char in input_string:\n",
    "        if char == 'a':\n",
    "            found_a = True\n",
    "        elif char == 'b' and found_a:\n",
    "            continue\n",
    "        else:\n",
    "            print(f\"The string '{input_string}' does not match the pattern.\")\n",
    "            return\n",
    "\n",
    "    if found_a:\n",
    "        print(f\"The string '{input_string}' matches the pattern: an 'a' followed by one or more 'b's.\")\n",
    "    else:\n",
    "        print(f\"The string '{input_string}' does not contain 'a'.\")\n",
    "\n",
    "# Example usage:\n",
    "user_input = input(\"Enter a string: \")\n",
    "match_pattern(user_input)\n",
    "\n"
   ]
  },
  {
   "cell_type": "code",
   "execution_count": 73,
   "id": "934df4ac",
   "metadata": {},
   "outputs": [
    {
     "name": "stdout",
     "output_type": "stream",
     "text": [
      "Enter a string: abbb\n",
      "The string 'abbb' matches the pattern: an 'a' followed by three 'b's.\n"
     ]
    }
   ],
   "source": [
    "#13\n",
    "def match_pattern(input_string):\n",
    "    found_a = False\n",
    "    count_b = 0\n",
    "\n",
    "    for char in input_string:\n",
    "        if char == 'a':\n",
    "            found_a = True\n",
    "        elif char == 'b' and found_a:\n",
    "            count_b += 1\n",
    "        elif found_a:\n",
    "            break  # Break out of the loop if a character other than 'a' or 'b' is encountered after 'a'\n",
    "\n",
    "    if found_a and count_b == 3:\n",
    "        print(f\"The string '{input_string}' matches the pattern: an 'a' followed by three 'b's.\")\n",
    "    else:\n",
    "        print(f\"The string '{input_string}' does not match the pattern.\")\n",
    "\n",
    "# Example usage:\n",
    "user_input = input(\"Enter a string: \")\n",
    "match_pattern(user_input)\n"
   ]
  },
  {
   "cell_type": "code",
   "execution_count": 74,
   "id": "8835d220",
   "metadata": {},
   "outputs": [
    {
     "name": "stdout",
     "output_type": "stream",
     "text": [
      "Enter a string: abbbbbb\n",
      "The string 'abbbbbb' does not match the pattern.\n"
     ]
    }
   ],
   "source": [
    "#14\n",
    "def match_pattern(input_string):\n",
    "    found_a = False\n",
    "    count_b = 0\n",
    "\n",
    "    for char in input_string:\n",
    "        if char == 'a':\n",
    "            found_a = True\n",
    "        elif char == 'b' and found_a:\n",
    "            count_b += 1\n",
    "        elif found_a:\n",
    "            break  # Break out of the loop if a character other than 'a' or 'b' is encountered after 'a'\n",
    "\n",
    "    if found_a and 2 <= count_b <= 3:\n",
    "        print(f\"The string '{input_string}' matches the pattern: an 'a' followed by two to three 'b's.\")\n",
    "    else:\n",
    "        print(f\"The string '{input_string}' does not match the pattern.\")\n",
    "\n",
    "# Example usage:\n",
    "user_input = input(\"Enter a string: \")\n",
    "match_pattern(user_input)\n"
   ]
  },
  {
   "cell_type": "code",
   "execution_count": 78,
   "id": "25dac74e",
   "metadata": {},
   "outputs": [
    {
     "name": "stdout",
     "output_type": "stream",
     "text": [
      "Enter a string: Sandesh_ishwar_pednekar\n",
      "Sequences found: andesh_ishwar\n"
     ]
    }
   ],
   "source": [
    "#15\n",
    "import re\n",
    "\n",
    "def find_sequences(input_string):\n",
    "    pattern = re.compile(r'[a-z]+_[a-z]+')\n",
    "    matches = pattern.findall(input_string)\n",
    "\n",
    "    if matches:\n",
    "        print(f\"Sequences found: {', '.join(matches)}\")\n",
    "    else:\n",
    "        print(\"No sequences found.\")\n",
    "\n",
    "# Example usage:\n",
    "user_input = input(\"Enter a string: \")\n",
    "find_sequences(user_input)\n"
   ]
  },
  {
   "cell_type": "code",
   "execution_count": 79,
   "id": "093a75d1",
   "metadata": {},
   "outputs": [
    {
     "name": "stdout",
     "output_type": "stream",
     "text": [
      "Enter a string: Sandesh Ishwar Peednekar\n",
      "Sequences found: Sandesh, Ishwar, Peednekar\n"
     ]
    }
   ],
   "source": [
    "#16\n",
    "import re\n",
    "\n",
    "def find_sequences(input_string):\n",
    "    pattern = re.compile(r'[A-Z][a-z]+')\n",
    "    matches = pattern.findall(input_string)\n",
    "\n",
    "    if matches:\n",
    "        print(f\"Sequences found: {', '.join(matches)}\")\n",
    "    else:\n",
    "        print(\"No sequences found.\")\n",
    "\n",
    "# Example usage with user input:\n",
    "user_input = input(\"Enter a string: \")\n",
    "find_sequences(user_input)\n"
   ]
  },
  {
   "cell_type": "code",
   "execution_count": 83,
   "id": "8774a434",
   "metadata": {},
   "outputs": [
    {
     "name": "stdout",
     "output_type": "stream",
     "text": [
      "Enter a string: asdjglsfjgjfib\n",
      "The string 'asdjglsfjgjfib' matches the pattern: starts with 'a' followed by anything, ending in 'b'.\n"
     ]
    }
   ],
   "source": [
    "#17\n",
    "def match_pattern(input_string):\n",
    "    starts_with_a = False\n",
    "    ends_with_b = False\n",
    "\n",
    "    for char in input_string:\n",
    "        if char == 'a':\n",
    "            starts_with_a = True\n",
    "        if starts_with_a and char == 'b':\n",
    "            ends_with_b = True\n",
    "\n",
    "    if starts_with_a and ends_with_b:\n",
    "        print(f\"The string '{input_string}' matches the pattern: starts with 'a' followed by anything, ending in 'b'.\")\n",
    "    else:\n",
    "        print(f\"The string '{input_string}' does not match the pattern.\")\n",
    "\n",
    "\n",
    "user_input = input(\"Enter a string: \")\n",
    "match_pattern(user_input)\n"
   ]
  },
  {
   "cell_type": "code",
   "execution_count": 85,
   "id": "3b234e39",
   "metadata": {},
   "outputs": [
    {
     "name": "stdout",
     "output_type": "stream",
     "text": [
      "Enter a string: my name is sandesh\n",
      "Enter the target word: my\n",
      "The string 'my name is sandesh' starts with the word 'my'.\n"
     ]
    }
   ],
   "source": [
    "#18\n",
    "def match_word_at_beginning(input_string, target_word):\n",
    "    if input_string.startswith(target_word):\n",
    "        print(f\"The string '{input_string}' starts with the word '{target_word}'.\")\n",
    "    else:\n",
    "        print(f\"The string '{input_string}' does not start with the word '{target_word}'.\")\n",
    "\n",
    "# Example usage with user input:\n",
    "user_input = input(\"Enter a string: \")\n",
    "target_word = input(\"Enter the target word: \")\n",
    "match_word_at_beginning(user_input, target_word)"
   ]
  },
  {
   "cell_type": "code",
   "execution_count": 86,
   "id": "046dc88f",
   "metadata": {},
   "outputs": [
    {
     "name": "stdout",
     "output_type": "stream",
     "text": [
      "Enter a string: sandesh\n",
      "Enter the target word: sh\n",
      "The string 'sandesh' ends with the word 'sh'.\n"
     ]
    }
   ],
   "source": [
    "#19\n",
    "import string\n",
    "\n",
    "def match_word_at_end(input_string, target_word):\n",
    "    input_string = input_string.rstrip(string.punctuation)\n",
    "\n",
    "    if input_string.endswith(target_word):\n",
    "        print(f\"The string '{input_string}' ends with the word '{target_word}'.\")\n",
    "    else:\n",
    "        print(f\"The string '{input_string}' does not end with the word '{target_word}'.\")\n",
    "\n",
    "\n",
    "user_input = input(\"Enter a string: \")\n",
    "target_word = input(\"Enter the target word: \")\n",
    "match_word_at_end(user_input, target_word)\n"
   ]
  },
  {
   "cell_type": "code",
   "execution_count": 87,
   "id": "a6bcff11",
   "metadata": {},
   "outputs": [
    {
     "name": "stdout",
     "output_type": "stream",
     "text": [
      "Enter a string: Azure\n",
      "Words containing 'z' (not at the start or end): Azure\n"
     ]
    }
   ],
   "source": [
    "#20\n",
    "import re\n",
    "\n",
    "def match_word_with_z(input_string):\n",
    "    pattern = re.compile(r'\\b\\w*z\\w*\\b')\n",
    "\n",
    "    matches = pattern.findall(input_string)\n",
    "\n",
    "    if matches:\n",
    "        print(f\"Words containing 'z' (not at the start or end): {', '.join(matches)}\")\n",
    "    else:\n",
    "        print(\"No matching words found.\")\n",
    "\n",
    "# Example usage with user input:\n",
    "user_input = input(\"Enter a string: \")\n",
    "match_word_with_z(user_input)\n"
   ]
  },
  {
   "cell_type": "code",
   "execution_count": 89,
   "id": "0795f4a2",
   "metadata": {},
   "outputs": [
    {
     "name": "stdout",
     "output_type": "stream",
     "text": [
      "Enter a string: sandesh\n",
      "Enter the target number: 2\n",
      "The string 'sandesh' does not start with the number 2.\n"
     ]
    }
   ],
   "source": [
    "#21\n",
    "def starts_with_number(input_string, target_number):\n",
    "    if input_string.startswith(str(target_number)):\n",
    "        print(f\"The string '{input_string}' starts with the number {target_number}.\")\n",
    "    else:\n",
    "        print(f\"The string '{input_string}' does not start with the number {target_number}.\")\n",
    "\n",
    "\n",
    "        \n",
    "user_input = input(\"Enter a string: \")\n",
    "target_number = int(input(\"Enter the target number: \"))\n",
    "starts_with_number(user_input, target_number)\n"
   ]
  },
  {
   "cell_type": "code",
   "execution_count": 90,
   "id": "cb6ace06",
   "metadata": {},
   "outputs": [
    {
     "name": "stdout",
     "output_type": "stream",
     "text": [
      "Enter a string: Sandesh@20\n",
      "The string 'Sandesh@20' ends with a number.\n"
     ]
    }
   ],
   "source": [
    "#22\n",
    "def ends_with_number(input_string):\n",
    "    if input_string[-1].isdigit():\n",
    "        print(f\"The string '{input_string}' ends with a number.\")\n",
    "    else:\n",
    "        print(f\"The string '{input_string}' does not end with a number.\")\n",
    "\n",
    "# Example usage:\n",
    "user_input = input(\"Enter a string: \")\n",
    "ends_with_number(user_input)\n"
   ]
  },
  {
   "cell_type": "code",
   "execution_count": 92,
   "id": "79efb812",
   "metadata": {},
   "outputs": [
    {
     "name": "stdout",
     "output_type": "stream",
     "text": [
      "Enter a string: Sandesh@20\n",
      "Numbers of length between 1 to 3 found: 20\n"
     ]
    }
   ],
   "source": [
    "#23\n",
    "import re\n",
    "\n",
    "def search_numbers(input_string):\n",
    "    pattern = re.compile(r'\\b\\d{1,3}\\b')\n",
    "    matches = pattern.findall(input_string)\n",
    "\n",
    "    if matches:\n",
    "        print(f\"Numbers of length between 1 to 3 found: {', '.join(matches)}\")\n",
    "    else:\n",
    "        print(\"No matching numbers found.\")\n",
    "\n",
    "# Example usage:\n",
    "user_input = input(\"Enter a string: \")\n",
    "search_numbers(user_input)\n"
   ]
  },
  {
   "cell_type": "code",
   "execution_count": 93,
   "id": "9b48e608",
   "metadata": {},
   "outputs": [
    {
     "name": "stdout",
     "output_type": "stream",
     "text": [
      "Enter a string: i love dog\n",
      "Word 'fox' not found in the string.\n",
      "Word 'dog' found in the string.\n",
      "Word 'horse' not found in the string.\n"
     ]
    }
   ],
   "source": [
    "#24\n",
    "def search_literals(input_string, *search_words):\n",
    "    for word in search_words:\n",
    "        if word in input_string:\n",
    "            print(f\"Word '{word}' found in the string.\")\n",
    "        else:\n",
    "            print(f\"Word '{word}' not found in the string.\")\n",
    "\n",
    "# Example usage:\n",
    "user_input = input(\"Enter a string: \")\n",
    "search_literals(user_input, 'fox', 'dog', 'horse')\n"
   ]
  },
  {
   "cell_type": "code",
   "execution_count": 94,
   "id": "60c48b6c",
   "metadata": {},
   "outputs": [
    {
     "name": "stdout",
     "output_type": "stream",
     "text": [
      "Enter a string: my name is sandesh\n",
      "Enter the word to search: sandesh\n",
      "Word 'sandesh' found at position 11.\n"
     ]
    }
   ],
   "source": [
    "#25\n",
    "def search_and_find_location(input_string, search_word):\n",
    "    if search_word in input_string:\n",
    "        location = input_string.find(search_word)\n",
    "        print(f\"Word '{search_word}' found at position {location}.\")\n",
    "    else:\n",
    "        print(f\"Word '{search_word}' not found in the string.\")\n",
    "\n",
    "# Example usage:\n",
    "user_input = input(\"Enter a string: \")\n",
    "search_word = input(\"Enter the word to search: \")\n",
    "search_and_find_location(user_input, search_word)\n"
   ]
  },
  {
   "cell_type": "code",
   "execution_count": 97,
   "id": "308faac2",
   "metadata": {},
   "outputs": [
    {
     "name": "stdout",
     "output_type": "stream",
     "text": [
      "Pattern 'exercises' found 2 times in the string.\n"
     ]
    }
   ],
   "source": [
    "#26\n",
    "def find_substrings(input_string, pattern):\n",
    "    occurrences = input_string.count(pattern)\n",
    "    print(f\"Pattern '{pattern}' found {occurrences} times in the string.\")\n",
    "\n",
    "# Example usage:\n",
    "user_input = 'Python exercises, stat exercises'\n",
    "pattern_to_find = 'exercises'\n",
    "find_substrings(user_input, pattern_to_find)\n"
   ]
  },
  {
   "cell_type": "code",
   "execution_count": 98,
   "id": "77722cc2",
   "metadata": {},
   "outputs": [
    {
     "name": "stdout",
     "output_type": "stream",
     "text": [
      "Enter a string: My name is sandesh\n",
      "Enter the substring to search: sandesh\n",
      "Occurrences of 'sandesh': 1\n",
      "Positions: [11]\n"
     ]
    }
   ],
   "source": [
    "#27\n",
    "def find_occurrence_and_position(input_string, substring):\n",
    "    occurrences = []\n",
    "    start = -1\n",
    "\n",
    "    while True:\n",
    "        start = input_string.find(substring, start + 1)\n",
    "        if start == -1:\n",
    "            break\n",
    "        occurrences.append(start)\n",
    "\n",
    "    print(f\"Occurrences of '{substring}': {len(occurrences)}\")\n",
    "    print(f\"Positions: {occurrences}\")\n",
    "\n",
    "# Example usage:\n",
    "user_input = input(\"Enter a string: \")\n",
    "substring_to_find = input(\"Enter the substring to search: \")\n",
    "find_occurrence_and_position(user_input, substring_to_find)\n"
   ]
  },
  {
   "cell_type": "code",
   "execution_count": 99,
   "id": "b0f6ba33",
   "metadata": {},
   "outputs": [
    {
     "name": "stdout",
     "output_type": "stream",
     "text": [
      "Enter a string: Sandesh Ishwar Pednekar\n",
      "Original string: Sandesh Ishwar Pednekar\n",
      "String with spaces replaced by underscore: Sandesh_Ishwar_Pednekar\n",
      "String with underscores replaced by space: Sandesh Ishwar Pednekar\n"
     ]
    }
   ],
   "source": [
    "#28\n",
    "def replace_whitespaces(input_string):\n",
    "    underscored_string = input_string.replace(' ', '_')\n",
    "    space_string = input_string.replace('_', ' ')\n",
    "\n",
    "    print(f\"Original string: {input_string}\")\n",
    "    print(f\"String with spaces replaced by underscore: {underscored_string}\")\n",
    "    print(f\"String with underscores replaced by space: {space_string}\")\n",
    "\n",
    "# Example usage:\n",
    "user_input = input(\"Enter a string: \")\n",
    "replace_whitespaces(user_input)\n"
   ]
  },
  {
   "cell_type": "code",
   "execution_count": 102,
   "id": "70465664",
   "metadata": {},
   "outputs": [
    {
     "name": "stdout",
     "output_type": "stream",
     "text": [
      "Enter a URL: http://localhost:8888/notebooks/Desktop/Symboisis/Untitled2.ipynb?kernel_name=python3\n",
      "No date information found in the URL.\n"
     ]
    }
   ],
   "source": [
    "#29\n",
    "from urllib.parse import urlparse\n",
    "\n",
    "def extract_date_from_url(url):\n",
    "    parsed_url = urlparse(url)\n",
    "    path_parts = parsed_url.path.split('/')\n",
    "    \n",
    "    for part in path_parts:\n",
    "        if part.isdigit() and len(part) == 8:\n",
    "            year = part[:4]\n",
    "            month = part[4:6]\n",
    "            day = part[6:]\n",
    "            print(f\"Year: {year}, Month: {month}, Day: {day}\")\n",
    "            return\n",
    "\n",
    "    print(\"No date information found in the URL.\")\n",
    "\n",
    "# Example usage:\n",
    "url = input(\"Enter a URL: \")\n",
    "extract_date_from_url(url)\n"
   ]
  },
  {
   "cell_type": "code",
   "execution_count": 103,
   "id": "2d879c3c",
   "metadata": {},
   "outputs": [
    {
     "name": "stdout",
     "output_type": "stream",
     "text": [
      "Enter a date in yyyy-mm-dd format: 2023-04-26\n",
      "Original date: 2023-04-26\n",
      "Converted date: 26-04-2023\n"
     ]
    }
   ],
   "source": [
    "#30\n",
    "from datetime import datetime\n",
    "\n",
    "def convert_date_format(input_date):\n",
    "    try:\n",
    "        date_object = datetime.strptime(input_date, '%Y-%m-%d')\n",
    "        formatted_date = date_object.strftime('%d-%m-%Y')\n",
    "        print(f\"Original date: {input_date}\")\n",
    "        print(f\"Converted date: {formatted_date}\")\n",
    "    except ValueError:\n",
    "        print(\"Invalid date format.\")\n",
    "\n",
    "# Example usage:\n",
    "user_input = input(\"Enter a date in yyyy-mm-dd format: \")\n",
    "convert_date_format(user_input)\n"
   ]
  },
  {
   "cell_type": "code",
   "execution_count": null,
   "id": "69e2d6be",
   "metadata": {},
   "outputs": [],
   "source": [
    "#3\n",
    "x, y, z, n = map(int, input().split())\n",
    "\n",
    "coordinates = [(i, j, k) for i in range(x + 1) for j in range(y + 1) for k in range(z + 1) if i + j + k != n]\n",
    "\n",
    "print(coordinates)\n"
   ]
  },
  {
   "cell_type": "code",
   "execution_count": null,
   "id": "61acd192",
   "metadata": {},
   "outputs": [],
   "source": []
  }
 ],
 "metadata": {
  "kernelspec": {
   "display_name": "Python 3 (ipykernel)",
   "language": "python",
   "name": "python3"
  },
  "language_info": {
   "codemirror_mode": {
    "name": "ipython",
    "version": 3
   },
   "file_extension": ".py",
   "mimetype": "text/x-python",
   "name": "python",
   "nbconvert_exporter": "python",
   "pygments_lexer": "ipython3",
   "version": "3.11.5"
  }
 },
 "nbformat": 4,
 "nbformat_minor": 5
}
